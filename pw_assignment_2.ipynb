{
  "nbformat": 4,
  "nbformat_minor": 0,
  "metadata": {
    "colab": {
      "provenance": []
    },
    "kernelspec": {
      "name": "python3",
      "display_name": "Python 3"
    },
    "language_info": {
      "name": "python"
    }
  },
  "cells": [
    {
      "cell_type": "markdown",
      "source": [
        "**1. What are data structures, and why are they important ?**\n",
        "\n",
        "Data structures are specialized formats for organizing, storing, and accessing collections of data. They provide efficient ways to manage information based on its characteristics and intended use.\n",
        "Think of them as containers that hold your data and determine how you can interact with it. Different containers are better suited for different types of items.\n",
        "\n",
        "Choosing the right data structure significantly impacts the efficiency and performance of your program.\n",
        "Well-chosen data structures can:\n",
        "Simplify data manipulation (adding, removing, modifying elements)\n",
        "Optimize searching and sorting operations\n",
        "Conserve memory usage.\n"
      ],
      "metadata": {
        "id": "JDAfeou9Tp0m"
      }
    },
    {
      "cell_type": "markdown",
      "source": [
        "**2.Explain the difference between mutable and immutable data types with examples**\n",
        "\n",
        "Mutable objects can have their values modified after creation without creating a new object, while immutable objects cannot. Lists, dictionaries, and sets are mutable, while strings, tuples, and numbers are immutable.\n",
        "Mutable Data Types:\n",
        "Lists: Elements can be added, removed, or modified. my_list.append(4) changes the list directly.\n",
        "Dictionaries: Key-value pairs can be added, removed, or modified.\n",
        "my_dict['c'] = 3 alters the dictionary.\n",
        "Sets: Elements can be added or removed. my_set.add(4) modifies the set.\n",
        "Immutable Data Types:\n",
        "Strings: Operations like changing a character raise a TypeError. my_string.upper() creates a new string.\n",
        "Tuples: Elements cannot be changed. my_tuple[0] = 10 would raise an error.\n",
        "Numbers: Operations result in new number objects. y = x + 5 creates a new y.\n"
      ],
      "metadata": {
        "id": "kcpUg2-zP08i"
      }
    },
    {
      "cell_type": "markdown",
      "source": [
        "**3. What are the main differences between lists and tuples in Python ?**\n",
        "\n",
        "**Mutability: **\n",
        "\n",
        "Lists are mutable: Their elements can be modified (added, removed, or changed) after creation.\n",
        "Tuples are immutable: Their elements cannot be changed once the tuple is created. This means you cannot add, remove, or modify individual elements within a tuple.\n",
        "**Performance and Memory:**\n",
        "\n",
        "Tuples are generally faster: Due to their immutability, Python can optimize memory allocation and access for tuples, leading to slightly faster performance, especially for iteration or membership checks.\n",
        "Tuples are more memory-efficient: As their size is fixed, they require less overhead compared to lists, which need to account for potential resizing.\n",
        "\n",
        "**Methods:**\n",
        "\n",
        "Lists have more built-in methods: They offer a wider range of methods for manipulation, such as append(), extend(), insert(), remove(), pop(), sort(), reverse(), etc.\n",
        "Tuples have fewer methods: Primarily, they offer count() (to count occurrences of an element) and index() (to find the index of an element)."
      ],
      "metadata": {
        "id": "ZbcsPfzFVX8N"
      }
    },
    {
      "cell_type": "markdown",
      "source": [
        "**4.Describe how dictionaries store data**\n",
        "\n",
        "Python dictionaries store data as a collection of unique key-value pairs. This structure provides an efficient way to associate and retrieve data based on specific identifiers (keys).\n",
        "\n",
        "person = {\n",
        "    \"name\": \"Sammit\",\n",
        "    \"age\": 23,\n",
        "    \"city\": \"Kolkata\"\n",
        "}\n",
        "Python dictionaries use a hash table to store keys and their associated values.\n",
        "\n",
        "Each key is passed through a hash function (hash(key)) to generate a unique hash code.\n",
        "\n",
        "This hash code determines where to store the value in memory (called a bucket or slot).\n",
        "\n"
      ],
      "metadata": {
        "id": "d04Y0-_JXNJr"
      }
    },
    {
      "cell_type": "markdown",
      "source": [
        "**5. Why might you use a set instead of a list in Python ?**\n",
        "1.I need only unique values\n",
        "A set automatically removes duplicates.\n",
        "\n",
        "Example:\n",
        "\n",
        "my_list = [1, 2, 2, 3]\n",
        "\n",
        "my_set = set(my_list)\n",
        "  # Output: {1, 2, 3}\n",
        "\n",
        "2.I want faster membership testing\n",
        "in checks are faster in sets because they use hash tables.\n",
        "Example:\n",
        "\n",
        "5 in my_list   # Slower (O(n))\n",
        "\n",
        "5 in my_set    # Faster (O(1))\n",
        "\n",
        "3.I want to perform set operations\n",
        "Sets allow easy use of operations like union, intersection, and difference.\n",
        "\n",
        "Example:\n",
        "a = {1, 2, 3}\n",
        "\n",
        "b = {2, 3, 4}\n",
        "\n",
        "print(a & b)\n",
        "\n",
        "#Intersection: {2, 3}\n"
      ],
      "metadata": {
        "id": "JpYE82h4on98"
      }
    },
    {
      "cell_type": "markdown",
      "source": [
        "**6. What is a string in Python, and how is it different from a list ?**\n",
        "\n",
        "In Python, a string is a sequence of characters enclosed in quotes (single ' ' or double \" \").\n",
        "\n",
        "Example:\n",
        "\n",
        "name = \"Sammit\"\n",
        "\n",
        "It is mainly used for text processing. On the other hand, a list is a collection of items, which can include strings, numbers, or even other lists, and is enclosed in square brackets [ ].\n",
        "\n",
        "The key difference is that strings are immutable, meaning once a string is created, its characters cannot be changed. In contrast, lists are mutable, so you can change, add, or remove elements after creation.\n",
        "\n",
        "For example, if you try to change the first letter of a string like \"hello\" to 'H', Python will give an error. But if you create a list like ['h', 'e', 'l', 'l', 'o'], you can change the first element to 'H' without any problem.\n"
      ],
      "metadata": {
        "id": "bpKiC6yxojDg"
      }
    },
    {
      "cell_type": "markdown",
      "source": [
        "**7.How do tuples ensure data integrity in Python?**\n",
        "In Python, a tuple is an ordered collection of elements that is immutable, meaning its content cannot be changed after creation.\n",
        "\n",
        "This immutability helps ensure data integrity by protecting the data from accidental modification. Once a tuple is created, no elements can be added, removed, or updated. This makes tuples ideal for storing constant or fixed data such as coordinates, dates, or configuration values that should not be altered during program execution.\n",
        "\n",
        "Additionally, because tuples are hashable (if they contain only immutable elements), they can be used as keys in dictionaries, further enabling reliable data mapping without the risk of mutation.\n",
        " Example :\n",
        "\n",
        " config = (\"localhost\", 8080)\n",
        "\n",
        " #config[0] = \"127.0.0.1\" →  This will raise an error"
      ],
      "metadata": {
        "id": "h93B_1rF80XR"
      }
    },
    {
      "cell_type": "markdown",
      "source": [
        "**8.What is a hash table, and how does it relate to dictionaries in Python?**\n",
        "A hash table is a data structure that stores data in key-value pairs using a process called hashing. In hashing, a special function (called a hash function) converts a key into a unique number (called a hash code) that determines where the value is stored in memory.\n",
        "\n",
        "In Python, dictionaries (dict) are implemented using hash tables. When you store data in a dictionary, Python hashes the key to decide where to store the corresponding value internally. This allows very fast lookup, insertion, and deletion operations.\n",
        "Example:\n",
        "\n",
        "student = {\"name\": \"Sammit\", \"age\": 23}\n",
        "\n",
        "Here, \"name\" and \"age\" are keys. Python internally hashes these keys to store and retrieve their values quickly."
      ],
      "metadata": {
        "id": "7o8srmeu-_Cc"
      }
    },
    {
      "cell_type": "markdown",
      "source": [
        "**9. Can lists contain different data types in Python?**\n",
        "Yes, lists in Python 3 can contain different data types. This is a key feature of Python lists, allowing for flexibility in storing heterogeneous collections of data.\n",
        "For example, a single Python list can contain:\n",
        "Integers,\n",
        "Strings,\n",
        "Floating-point numbers,\n",
        "Booleans,\n",
        "Other lists (creating nested lists),\n",
        "Tuples,\n",
        "Dictionaries,\n",
        "And more complex objects."
      ],
      "metadata": {
        "id": "uOqteEdR_wa-"
      }
    },
    {
      "cell_type": "markdown",
      "source": [
        "**10. Explain why strings are immutable in Python ?**\n",
        "\n",
        "Python strings are immutable, meaning their content cannot be changed after they are created. Any operation that appears to modify a string, such as concatenation or replacement, actually results in the creation of a new string object in memory, while the original string remains unchanged.\n",
        "\n",
        "Security: Strings are used for sensitive data like usernames and passwords. Immutability prevents attackers from altering the values."
      ],
      "metadata": {
        "id": "_QR5fNVjAhkB"
      }
    },
    {
      "cell_type": "markdown",
      "source": [
        "**11. What advantages do dictionaries offer over lists for certain tasks?**\n",
        "Dictionaries in Python offer significant advantages over lists when it comes to data retrieval and organization, particularly when dealing with key-value pairs. While lists excel at maintaining order and sequential access, dictionaries provide faster lookups based on keys, making them ideal for scenarios requiring quick data retrieval based on unique identifiers."
      ],
      "metadata": {
        "id": "7oCEikUABO4X"
      }
    },
    {
      "cell_type": "markdown",
      "source": [
        "# **12.Describe a scenario where using a tuple would be preferable over a list **\n",
        "A tuple is preferable over a list when I want to store a fixed collection of values that should not change during the program execution. Since tuples are immutable, they help maintain data integrity by preventing accidental changes to the data.\n",
        "\n",
        "Example:\n",
        "\n",
        "location = (22.5726, 88.3639)\n",
        "\n",
        "*Latitude and Longitude of Kolkata\n",
        "In this case, using a tuple is better than a list because:\n",
        "\n",
        "The coordinates are fixed and should not be changed.\n",
        "\n",
        "Tuples are faster and more memory-efficient than lists for such constant data.\n"
      ],
      "metadata": {
        "id": "PJv1LCK5Biaz"
      }
    },
    {
      "cell_type": "markdown",
      "source": [
        "**13.  How do sets handle duplicate values in Python ?**\n",
        "\n",
        "Python sets, by definition, are designed to store only unique elements. They do not allow duplicate values. When you attempt to add an element that already exists in a set, the set simply ignores the addition; it does not raise an error, nor does it store the duplicate.\n",
        "This characteristic makes sets particularly useful for:\n",
        "#Removing duplicates from a collection:\n",
        "By converting a list or other iterable into a set, all duplicate elements are automatically eliminated.\n",
        "#Checking for uniqueness:\n",
        "Sets provide an efficient way to determine if all elements within a collection are unique."
      ],
      "metadata": {
        "id": "yVlkU7OAChnN"
      }
    },
    {
      "cell_type": "markdown",
      "source": [
        "**14. How does the “in” keyword work differently for lists and dictionaries**\n",
        "The in keyword in Python functions differently when used with lists and dictionaries. For lists, in checks if an element exists within the list by iterating through each item. For dictionaries, in checks if a given key exists within the dictionary's set of keys."
      ],
      "metadata": {
        "id": "bkQjPtLGDGXW"
      }
    },
    {
      "cell_type": "markdown",
      "source": [
        "**15. Can you modify the elements of a tuple? Explain why or why not?**\n",
        "\n",
        "No, I cannot directly modify the elements of a tuple in Python. Tuples are immutable, meaning their contents cannot be changed after creation. If I  attempt to modify a tuple, I will get a TypeError"
      ],
      "metadata": {
        "id": "tSfslNbYDWtx"
      }
    },
    {
      "cell_type": "code",
      "source": [
        "''' 16. What is a nested dictionary, and give an example of its use case ?\n",
        "A nested dictionary is a dictionary where one or more of its values are also dictionaries. This structure allows for hierarchical data representation, where data is organized in levels or layers.\n",
        "\n",
        "employees = {\n",
        "    'department_a': {\n",
        "        'employee_1': {\n",
        "            'name': 'Alice',\n",
        "            'age': 30,\n",
        "            'position': 'Developer'\n",
        "        },\n",
        "        'employee_2': {\n",
        "            'name': 'Bob',\n",
        "            'age': 25,\n",
        "            'position': 'Designer'\n",
        "        }\n",
        "    },\n",
        "    'department_b': {\n",
        "        'employee_3': {\n",
        "            'name': 'Charlie',\n",
        "            'age': 35,\n",
        "            'position': 'Manager'\n",
        "        }\n",
        "    }\n",
        "}\n",
        "\n",
        "In this example, employees is a dictionary where each key (e.g., 'department_a') maps to another dictionary containing employee information. This second-level dictionary has keys like 'employee_1', and their values are dictionaries containing employee details.\n",
        "\n",
        "'''"
      ],
      "metadata": {
        "id": "PCzFc2I9F3iB"
      },
      "execution_count": null,
      "outputs": []
    },
    {
      "cell_type": "markdown",
      "source": [
        "**17.  Describe the time complexity of accessing elements in a dictionary?**\n",
        "Accessing elements in a dictionary (also known as a hash map or associative array) typically has a time complexity of O(1) on average, which is considered constant time. This means the time it takes to retrieve a value based on its key does not depend on the number of elements in the dictionary.\n",
        "\n",
        "**Hash Table Implementation:**\n",
        "\n",
        "Dictionaries are generally implemented using hash tables. A hash function converts the key into an index, and the corresponding value is stored at that index.\n",
        "**Average Case (O(1)):**\n",
        "\n",
        "In the average case, the hash function distributes keys relatively evenly across the hash table, allowing for quick access. The hash function and comparison of keys take constant time, so the lookup is fast.\n",
        "\n",
        "**Worst Case (O(n)):**\n",
        "\n",
        "In the worst case, where many keys hash to the same index (known as collisions), the lookup time can degrade to O(n), where n is the number of elements in the dictionary. This is because, in the worst-case scenario, you might have to traverse a linked list (or similar data structure) of elements that have collided at the same index."
      ],
      "metadata": {
        "id": "r_Ff_NFuGXte"
      }
    },
    {
      "cell_type": "markdown",
      "source": [
        "**18. In what situations are lists preferred over dictionaries?**\n",
        "Lists are generally preferred over dictionaries when: 1) the order of elements is crucial, 2) when you need to access elements by their index position, and 3) when you're dealing with sequential processing or need to modify elements frequently."
      ],
      "metadata": {
        "id": "aM5DbgqcG9sl"
      }
    },
    {
      "cell_type": "markdown",
      "source": [
        "**19.Why are dictionaries considered unordered, and how does that affect data retrieval ?**\n",
        "\n",
        "Dictionaries are considered unordered because they don't store elements in a specific sequence that can be accessed by index, unlike lists or tuples. This means the order in which you add items to a dictionary is not necessarily the order in which they will be retrieved. However, this doesn't significantly affect data retrieval as dictionaries are designed for fast lookups based on keys, not sequential access.\n",
        "\n",
        "**Unordered Nature:**\n",
        "Dictionaries are implemented using hash tables, which optimize for quick key-based lookups. This means the internal structure doesn't maintain a record of the insertion order.\n",
        "\n",
        "**Data Retrieval:**\n",
        "While the order isn't guaranteed, retrieving data from a dictionary is typically very fast because it uses the key to directly access the corresponding value. This is much more efficient than iterating through a list or tuple to find a specific element."
      ],
      "metadata": {
        "id": "_13eJW7XHHkd"
      }
    },
    {
      "cell_type": "markdown",
      "source": [
        "**20.Explain the difference between a list and a dictionary in terms of data retrieval.**\n",
        "\n",
        "In data retrieval, lists and dictionaries in Python differ primarily in how they access elements. Lists use numerical indices (starting from 0) to retrieve values, while dictionaries use keys (which can be of various immutable data types). Dictionaries are optimized for fast lookups using keys, whereas lists can be faster for sequential access by index."
      ],
      "metadata": {
        "id": "uqe6tDT9HiqT"
      }
    },
    {
      "cell_type": "code",
      "execution_count": null,
      "metadata": {
        "colab": {
          "base_uri": "https://localhost:8080/"
        },
        "id": "CGjKM9rqyx7s",
        "outputId": "48891273-1ee7-43ec-97e3-b72f1060e6e1"
      },
      "outputs": [
        {
          "output_type": "stream",
          "name": "stdout",
          "text": [
            "Enter your namesammit\n",
            "My name is sammit.\n"
          ]
        }
      ],
      "source": [
        "# 1.Write a code to create a string with your name and print it\n",
        "name = input(\"Enter your name\")\n",
        "print(f\"My name is {name}.\")"
      ]
    },
    {
      "cell_type": "code",
      "source": [
        "# 2.Write a code to find the length of the string \"Hello World\"\n",
        "len(\"Hello World\")"
      ],
      "metadata": {
        "colab": {
          "base_uri": "https://localhost:8080/"
        },
        "id": "E-cSrTaW0JuZ",
        "outputId": "856656b6-9142-4a2a-93b5-73ec2f1bd2b2"
      },
      "execution_count": null,
      "outputs": [
        {
          "output_type": "execute_result",
          "data": {
            "text/plain": [
              "11"
            ]
          },
          "metadata": {},
          "execution_count": 2
        }
      ]
    },
    {
      "cell_type": "code",
      "source": [
        "# 3. Write a code to slice the first 3 characters from the string \"Python Programming\"\n",
        "String_Text = \"Python Programming\"\n",
        "print(String_Text[0:3])"
      ],
      "metadata": {
        "colab": {
          "base_uri": "https://localhost:8080/"
        },
        "id": "UxzYNoas0hH8",
        "outputId": "2cc70b8c-91ad-4d09-a035-c29bef8d5720"
      },
      "execution_count": null,
      "outputs": [
        {
          "output_type": "stream",
          "name": "stdout",
          "text": [
            "Pyt\n"
          ]
        }
      ]
    },
    {
      "cell_type": "code",
      "source": [
        "#4. Write a code to convert the string \"hello\" to uppercase\n",
        "text =\"hello\"\n",
        "text.upper()"
      ],
      "metadata": {
        "colab": {
          "base_uri": "https://localhost:8080/",
          "height": 35
        },
        "id": "3VnXwU6R1VQl",
        "outputId": "c78956cf-b218-434a-b122-402623efe7db"
      },
      "execution_count": null,
      "outputs": [
        {
          "output_type": "execute_result",
          "data": {
            "text/plain": [
              "'HELLO'"
            ],
            "application/vnd.google.colaboratory.intrinsic+json": {
              "type": "string"
            }
          },
          "metadata": {},
          "execution_count": 8
        }
      ]
    },
    {
      "cell_type": "code",
      "source": [
        "# 5.Write a code to replace the word \"apple\" with \"orange\" in the string \"I like apple\"\n",
        "text = \"I like apple\"\n",
        "text.replace(\"apple\",\"orange\")"
      ],
      "metadata": {
        "colab": {
          "base_uri": "https://localhost:8080/",
          "height": 35
        },
        "id": "Msg1kTLi2s_e",
        "outputId": "26c85158-738b-4c87-d14c-0cc56a34823f"
      },
      "execution_count": null,
      "outputs": [
        {
          "output_type": "execute_result",
          "data": {
            "text/plain": [
              "'I like orange'"
            ],
            "application/vnd.google.colaboratory.intrinsic+json": {
              "type": "string"
            }
          },
          "metadata": {},
          "execution_count": 9
        }
      ]
    },
    {
      "cell_type": "code",
      "source": [
        "#6.Write a code to create a list with numbers 1 to 5 and print it\n",
        "list = [1,2,3,4,5]\n",
        "print(list)"
      ],
      "metadata": {
        "colab": {
          "base_uri": "https://localhost:8080/"
        },
        "id": "pRmqT4pv4KaG",
        "outputId": "e01ce504-4b74-4160-9d39-ef9c23db4482"
      },
      "execution_count": null,
      "outputs": [
        {
          "output_type": "stream",
          "name": "stdout",
          "text": [
            "[1, 2, 3, 4, 5]\n"
          ]
        }
      ]
    },
    {
      "cell_type": "code",
      "source": [
        "# 7. Write a code to append the number 10 to the list [1, 2, 3, 4]\n",
        "list= [1,2,3,4]\n",
        "list.append(10)\n",
        "print(list)"
      ],
      "metadata": {
        "colab": {
          "base_uri": "https://localhost:8080/"
        },
        "id": "fXC4CT5Q472N",
        "outputId": "34b50360-80d8-4701-e81e-5b7601c46aef"
      },
      "execution_count": null,
      "outputs": [
        {
          "output_type": "stream",
          "name": "stdout",
          "text": [
            "[1, 2, 3, 4, 10]\n"
          ]
        }
      ]
    },
    {
      "cell_type": "code",
      "source": [
        "# 8.Write a code to remove the number 3 from the list [1, 2, 3, 4, 5]P\n",
        "list = [1,2,3,4,5]\n",
        "list.remove(3)\n",
        "print(list)"
      ],
      "metadata": {
        "colab": {
          "base_uri": "https://localhost:8080/"
        },
        "id": "TfKX52Z05UEg",
        "outputId": "5aa8b49e-0ade-42f2-9a59-cc84d1e43738"
      },
      "execution_count": null,
      "outputs": [
        {
          "output_type": "stream",
          "name": "stdout",
          "text": [
            "[1, 2, 4, 5]\n"
          ]
        }
      ]
    },
    {
      "cell_type": "code",
      "source": [
        "# 9. 9P Write a code to access the second element in the list ['a', 'b', 'c', 'd']P\n",
        "list = ['a','b','c','d']\n",
        "list[1]"
      ],
      "metadata": {
        "colab": {
          "base_uri": "https://localhost:8080/",
          "height": 35
        },
        "id": "fQPxRyxc5fbY",
        "outputId": "2c4f7706-699b-45bc-ec2b-4ea8e948441f"
      },
      "execution_count": null,
      "outputs": [
        {
          "output_type": "execute_result",
          "data": {
            "text/plain": [
              "'b'"
            ],
            "application/vnd.google.colaboratory.intrinsic+json": {
              "type": "string"
            }
          },
          "metadata": {},
          "execution_count": 13
        }
      ]
    },
    {
      "cell_type": "code",
      "source": [
        "# 10. Write a code to reverse the list [10, 20, 30, 40, 50]\n",
        "list_1 = [10,20,30,40,50]\n",
        "list_1[::-1]"
      ],
      "metadata": {
        "colab": {
          "base_uri": "https://localhost:8080/"
        },
        "id": "kCRzOmMm56-N",
        "outputId": "7435c4e4-c71a-4991-f243-9d9e19f92b53"
      },
      "execution_count": null,
      "outputs": [
        {
          "output_type": "execute_result",
          "data": {
            "text/plain": [
              "[50, 40, 30, 20, 10]"
            ]
          },
          "metadata": {},
          "execution_count": 4
        }
      ]
    },
    {
      "cell_type": "code",
      "source": [
        "#11. Write a code to create a tuple with the elements 100, 200, 300 and print it.\n",
        "tuple = (100,200,300)\n",
        "print(tuple)\n"
      ],
      "metadata": {
        "colab": {
          "base_uri": "https://localhost:8080/"
        },
        "id": "hxPddA1Z4pUe",
        "outputId": "76d39c38-1c5b-4e46-b044-54563e2fb7fa"
      },
      "execution_count": null,
      "outputs": [
        {
          "output_type": "stream",
          "name": "stdout",
          "text": [
            "(100, 200, 300)\n"
          ]
        }
      ]
    },
    {
      "cell_type": "code",
      "source": [
        "# 12. Write a code to access the second-to-last element of the tuple ('red', 'green', 'blue', 'yellow')\n",
        "tuple = ('red','green','blue','yellow')\n",
        "tuple[-2]"
      ],
      "metadata": {
        "colab": {
          "base_uri": "https://localhost:8080/",
          "height": 35
        },
        "id": "cU0TqO5i6Z3j",
        "outputId": "d125e112-0737-4ce5-f0ee-38ba3a2b1c55"
      },
      "execution_count": null,
      "outputs": [
        {
          "output_type": "execute_result",
          "data": {
            "text/plain": [
              "'blue'"
            ],
            "application/vnd.google.colaboratory.intrinsic+json": {
              "type": "string"
            }
          },
          "metadata": {},
          "execution_count": 6
        }
      ]
    },
    {
      "cell_type": "code",
      "source": [
        "#13. Write a code to find the minimum number in the tuple (10, 20, 5, 15).\n",
        "tuple_1 = (10,20,5,15)\n",
        "min(tuple_1)"
      ],
      "metadata": {
        "colab": {
          "base_uri": "https://localhost:8080/"
        },
        "id": "t1_Z2GKM7Q8M",
        "outputId": "003bd60b-e1e3-4ecd-d477-22bf93ddc9ef"
      },
      "execution_count": null,
      "outputs": [
        {
          "output_type": "execute_result",
          "data": {
            "text/plain": [
              "5"
            ]
          },
          "metadata": {},
          "execution_count": 7
        }
      ]
    },
    {
      "cell_type": "code",
      "source": [
        "# 14. Write a code to find the index of the element \"cat\" in the tuple ('dog', 'cat', 'rabbit')\n",
        "tuple_2 = ( 'dog','cat','rabbit')\n",
        "tuple_2.index(\"cat\")"
      ],
      "metadata": {
        "colab": {
          "base_uri": "https://localhost:8080/"
        },
        "id": "H5b728a_7n8X",
        "outputId": "1b9000fe-2959-4f7a-b82a-2d9ea1ac7eda"
      },
      "execution_count": null,
      "outputs": [
        {
          "output_type": "execute_result",
          "data": {
            "text/plain": [
              "1"
            ]
          },
          "metadata": {},
          "execution_count": 8
        }
      ]
    },
    {
      "cell_type": "code",
      "source": [
        "#15. Write a code to create a tuple containing three different fruits and check if \"kiwi\" is in it.\n",
        "fruits = (\"apple\",\"orange\",\"kiwi\")\n",
        "if kiwi in fruits:\n",
        "  print(\"kiwi in fruits\")"
      ],
      "metadata": {
        "colab": {
          "base_uri": "https://localhost:8080/"
        },
        "id": "T3UyBlCY8AmH",
        "outputId": "ab0a8e05-c960-406c-e940-2b4ea369d339"
      },
      "execution_count": null,
      "outputs": [
        {
          "output_type": "stream",
          "name": "stdout",
          "text": [
            "kiwi in fruits\n"
          ]
        }
      ]
    },
    {
      "cell_type": "code",
      "source": [
        "# 16. Write a code to create a set with the elements 'a', 'b', 'c' and print it.\n",
        "set_1 = {'a','b','c'}\n",
        "print(set_1)"
      ],
      "metadata": {
        "colab": {
          "base_uri": "https://localhost:8080/"
        },
        "id": "MTAz_px78fPI",
        "outputId": "0c790a3c-551d-4f95-9f06-f051fe545f4a"
      },
      "execution_count": null,
      "outputs": [
        {
          "output_type": "stream",
          "name": "stdout",
          "text": [
            "{'a', 'b', 'c'}\n"
          ]
        }
      ]
    },
    {
      "cell_type": "code",
      "source": [
        "# 17. Write a code to clear all elements from the set {1, 2, 3, 4, 5}.\n",
        "set_2 ={1,2,3,4,5}\n",
        "set_2.clear()\n",
        "set_2"
      ],
      "metadata": {
        "colab": {
          "base_uri": "https://localhost:8080/"
        },
        "id": "yol9m6PE9RX-",
        "outputId": "28966b63-9197-40f6-8941-999a0de8b0a7"
      },
      "execution_count": null,
      "outputs": [
        {
          "output_type": "execute_result",
          "data": {
            "text/plain": [
              "set()"
            ]
          },
          "metadata": {},
          "execution_count": 14
        }
      ]
    },
    {
      "cell_type": "code",
      "source": [
        "#18. Write a code to remove the element 4 from the set {1, 2, 3, 4}.\n",
        "set_3 = {1,2,3,4}\n",
        "set_3.remove(4)\n",
        "set_3"
      ],
      "metadata": {
        "colab": {
          "base_uri": "https://localhost:8080/"
        },
        "id": "UmmJBJoQ9y55",
        "outputId": "417e391b-104e-45e1-92f7-3abeb5c24a0d"
      },
      "execution_count": null,
      "outputs": [
        {
          "output_type": "execute_result",
          "data": {
            "text/plain": [
              "{1, 2, 3}"
            ]
          },
          "metadata": {},
          "execution_count": 17
        }
      ]
    },
    {
      "cell_type": "code",
      "source": [
        "# 19. Write a code to find the union of two sets {1, 2, 3} and {3, 4, 5}.\n",
        "t1 = {1,2,3}\n",
        "t2 = {3,4,5}\n",
        "t3 = (t1 |t2)\n",
        "print(t3)"
      ],
      "metadata": {
        "colab": {
          "base_uri": "https://localhost:8080/"
        },
        "id": "ikdqcCrM-N2p",
        "outputId": "fe935302-7e5a-46a7-fb4e-5e3ba9f40ccc"
      },
      "execution_count": null,
      "outputs": [
        {
          "output_type": "stream",
          "name": "stdout",
          "text": [
            "{1, 2, 3, 4, 5}\n"
          ]
        }
      ]
    },
    {
      "cell_type": "code",
      "source": [
        "# 20. Write a code to find the intersection of two sets {1, 2, 3} and {2, 3, 4}\n",
        "t4 ={1,2,3,}\n",
        "t5 = {2,3,4}\n",
        "intersection = (t4 & t5)\n",
        "print(intersection)"
      ],
      "metadata": {
        "colab": {
          "base_uri": "https://localhost:8080/"
        },
        "id": "bFGqatbR-sN3",
        "outputId": "fdd7078a-f52e-4a2d-d1b8-418a434f133c"
      },
      "execution_count": null,
      "outputs": [
        {
          "output_type": "stream",
          "name": "stdout",
          "text": [
            "{2, 3}\n"
          ]
        }
      ]
    },
    {
      "cell_type": "code",
      "source": [
        "#21. Write a code to create a dictionary with the keys \"name\", \"age\", and \"city\", and print it.\n",
        "dict_1 = {\"name\":\"sammit\",\"age\":25,\"city\":\"Kolkata\"}\n",
        "print(dict_1)"
      ],
      "metadata": {
        "colab": {
          "base_uri": "https://localhost:8080/"
        },
        "id": "Qq5w-7w5_Rx3",
        "outputId": "67b95217-8cad-47e5-833c-37ff7c816eed"
      },
      "execution_count": null,
      "outputs": [
        {
          "output_type": "stream",
          "name": "stdout",
          "text": [
            "{'name': 'sammit', 'age': 25, 'city': 'Kolkata'}\n"
          ]
        }
      ]
    },
    {
      "cell_type": "code",
      "source": [
        "# 22. Write a code to add a new key-value pair \"country\": \"USA\" to the dictionary {'name': 'John', 'age': 25}.\n",
        "dict_2 = {'name': 'John', 'age': 25}\n",
        "dict_2[\"country\"] = \"USA\"\n",
        "print(dict_2)"
      ],
      "metadata": {
        "colab": {
          "base_uri": "https://localhost:8080/"
        },
        "id": "PUqRI1yEALns",
        "outputId": "872e3e66-c5bf-4b95-dcda-d66272b7996a"
      },
      "execution_count": null,
      "outputs": [
        {
          "output_type": "stream",
          "name": "stdout",
          "text": [
            "{'name': 'John', 'age': 25, 'country': 'USA'}\n"
          ]
        }
      ]
    },
    {
      "cell_type": "code",
      "source": [
        "# 23. Write a code to access the value associated with the key \"name\" in the dictionary {'name': 'Alice', 'age': 30}.\n",
        "d2 = {'name': 'Alice', 'age': 30}\n",
        "d2['name']\n"
      ],
      "metadata": {
        "colab": {
          "base_uri": "https://localhost:8080/",
          "height": 35
        },
        "id": "XuxUUQJlA6Se",
        "outputId": "857f5f71-a32c-443f-bfc5-1117737b2db8"
      },
      "execution_count": null,
      "outputs": [
        {
          "output_type": "execute_result",
          "data": {
            "text/plain": [
              "'Alice'"
            ],
            "application/vnd.google.colaboratory.intrinsic+json": {
              "type": "string"
            }
          },
          "metadata": {},
          "execution_count": 29
        }
      ]
    },
    {
      "cell_type": "code",
      "source": [
        "# 24. Write a code to remove the key \"age\" from the dictionary {'name': 'Bob', 'age': 22, 'city': 'New York'}.\n",
        "d5 = {'name': 'Bob', 'age': 22, 'city': 'New York'}\n",
        "del d5['age']"
      ],
      "metadata": {
        "id": "Nrx4-dGBBv0p"
      },
      "execution_count": null,
      "outputs": []
    },
    {
      "cell_type": "code",
      "source": [
        "# 25. Write a code to check if the key \"city\" exists in the dictionary\n",
        "dict_1 = {'name': 'Alice', 'city': 'Paris'}\n",
        "if 'city' in dict_1 :\n",
        "  print(\"True\")"
      ],
      "metadata": {
        "colab": {
          "base_uri": "https://localhost:8080/"
        },
        "id": "1H_KhbO0CnnV",
        "outputId": "6bea9881-7ed2-4d21-e1dc-2bf2edb45281"
      },
      "execution_count": null,
      "outputs": [
        {
          "output_type": "stream",
          "name": "stdout",
          "text": [
            "True\n"
          ]
        }
      ]
    },
    {
      "cell_type": "code",
      "source": [
        "#26.Write a code to create a list, a tuple, and a dictionary, and print them all.\n",
        "list_x = [1,2,3,4,5,6]\n",
        "tuple_y =  ('a','b','c','d','e')\n",
        "dict_z = {'name':'sammit','age':12,'address':'kolkata'}\n",
        "print('list:',list_x,\" \",'tuple:', tuple_y,\" \",'dict:' ,dict_z)"
      ],
      "metadata": {
        "colab": {
          "base_uri": "https://localhost:8080/"
        },
        "id": "7Z6aGA8GD4mb",
        "outputId": "dfc638e3-73ec-4a0b-f4ad-6b5b5695e3a1"
      },
      "execution_count": null,
      "outputs": [
        {
          "output_type": "stream",
          "name": "stdout",
          "text": [
            "list: [1, 2, 3, 4, 5, 6]   tuple: ('a', 'b', 'c', 'd', 'e')   dict: {'name': 'sammit', 'age': 12, 'address': 'kolkata'}\n"
          ]
        }
      ]
    },
    {
      "cell_type": "code",
      "source": [
        "#27. Write a code to create a list of 5 random numbers between 1 and 100, sort it in ascending order, and print the result.\n",
        "\n",
        "import random\n",
        "\n",
        "# Create a list of 5 random numbers between 1 and 100\n",
        "random_numbers = [random.randint(1, 100) for _ in range(5)]\n",
        "\n",
        "# Sort the list in ascending order\n",
        "random_numbers.sort()\n",
        "\n",
        "# Print the sorted list\n",
        "print(random_numbers)"
      ],
      "metadata": {
        "colab": {
          "base_uri": "https://localhost:8080/"
        },
        "id": "SbHkwqTdGOGS",
        "outputId": "cce68fc1-bab6-40c3-9d42-f7101567a7cc"
      },
      "execution_count": null,
      "outputs": [
        {
          "output_type": "stream",
          "name": "stdout",
          "text": [
            "[4, 25, 37, 59, 85]\n"
          ]
        }
      ]
    },
    {
      "cell_type": "code",
      "metadata": {
        "colab": {
          "base_uri": "https://localhost:8080/"
        },
        "id": "bf67f2cc",
        "outputId": "5d50d8e7-efbd-4869-86c5-1d66cec5ff79"
      },
      "source": [
        "# 28. Write a code to create a list with strings and print the element at the third index.\n",
        "my_list = [\"apple\", \"banana\", \"cherry\", \"date\", \"elderberry\"]\n",
        "print(my_list[2])"
      ],
      "execution_count": null,
      "outputs": [
        {
          "output_type": "stream",
          "name": "stdout",
          "text": [
            "cherry\n"
          ]
        }
      ]
    },
    {
      "cell_type": "code",
      "source": [
        "#  29. Write a code to combine two dictionaries into one and print the result\n",
        "dict1 = {'name': 'Bob', 'age': 22, 'city': 'New York'}\n",
        "dict2 = {\"pin\":700032,'country':'india'}\n",
        "New_dict = dict1.copy() # create a copy to avoid modifying dict1 in place\n",
        "New_dict.update(dict2)\n",
        "print(New_dict)"
      ],
      "metadata": {
        "colab": {
          "base_uri": "https://localhost:8080/"
        },
        "id": "vW49__CHLD2e",
        "outputId": "acc9ccf9-6054-47b2-f906-94e0a784e653"
      },
      "execution_count": null,
      "outputs": [
        {
          "output_type": "stream",
          "name": "stdout",
          "text": [
            "{'name': 'Bob', 'age': 22, 'city': 'New York', 'pin': 700032, 'country': 'india'}\n"
          ]
        }
      ]
    },
    {
      "cell_type": "code",
      "source": [
        "# 30. Write a code to convert a list of strings into a set.\n",
        "my_list1 = [\"apple\", \"banana\", \"cherry\", \"date\", \"elderberry\"]\n",
        "set1 = set(my_list1)\n",
        "print(set1)\n",
        "type(set1)"
      ],
      "metadata": {
        "colab": {
          "base_uri": "https://localhost:8080/"
        },
        "id": "ORRNVEHGNj55",
        "outputId": "e7e154f8-e6c1-4121-ad25-e79ee7609eea"
      },
      "execution_count": null,
      "outputs": [
        {
          "output_type": "stream",
          "name": "stdout",
          "text": [
            "{'elderberry', 'cherry', 'apple', 'date', 'banana'}\n"
          ]
        },
        {
          "output_type": "execute_result",
          "data": {
            "text/plain": [
              "set"
            ]
          },
          "metadata": {},
          "execution_count": 48
        }
      ]
    }
  ]
}