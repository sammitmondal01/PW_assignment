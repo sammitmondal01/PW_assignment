{
  "nbformat": 4,
  "nbformat_minor": 0,
  "metadata": {
    "colab": {
      "provenance": []
    },
    "kernelspec": {
      "name": "python3",
      "display_name": "Python 3"
    },
    "language_info": {
      "name": "python"
    }
  },
  "cells": [
    {
      "cell_type": "markdown",
      "source": [
        "#  Basics Questions(Theory Question)"
      ],
      "metadata": {
        "id": "gFHZ_tbsVDkJ"
      }
    },
    {
      "cell_type": "code",
      "execution_count": null,
      "metadata": {
        "id": "fDUGY7GLBb9j"
      },
      "outputs": [],
      "source": [
        "1. What is Python, and why is it popular ?\n",
        "\n",
        "Python is a high-level, interpreted programming language known for its simplicity, readability,\n",
        "and versatility.Created by Guido van Rossum and first released in 1991.\n",
        "\n",
        "here are some reasons why Python is popular:\n",
        "  1. Ease to learn and use\n",
        "  2. versatility\n",
        "  3. Extensive Libraries and Frameworks\n",
        "  4. Cross-platform compatibility and many more.\n"
      ]
    },
    {
      "cell_type": "code",
      "source": [
        "#2. What is an interpreter in Python?\n",
        "\n",
        "'''\n",
        "An interpreter in python is a program that executes python code. Unlike compiled\n",
        "languages,where the code is transformed into machine language before execution,\n",
        "Python code is executed line by line by the interpreter.This allows for more immediate\n",
        "feedback during development,making it easier to test and debug code.\n",
        "'''"
      ],
      "metadata": {
        "id": "gxs2jZ8DfRUJ"
      },
      "execution_count": null,
      "outputs": []
    },
    {
      "cell_type": "code",
      "source": [
        "# 3.  What are pre-defined keywords in Python?\n",
        "'''\n",
        "In Python, predefined keywords, also known as reserved keywords, are words that have\n",
        "special meaning and are reseved by the language for specific function or operations.\n",
        "\n",
        "  - False,  await, else, import, pass ,None, break, except, in,\n",
        "    True,   class, finally, is, return,  and, continue, for, lambda,\n",
        "    try, if , elif , or , and many more."
      ],
      "metadata": {
        "id": "fYjVPb4ShZfE"
      },
      "execution_count": null,
      "outputs": []
    },
    {
      "cell_type": "code",
      "source": [
        "# 4. Can keywords be used as variable names?\n",
        "'''\n",
        "No, keywords in python cannot be used as variable names. Keywords are reserved words that have\n",
        "special meaning and function in the python language. Using a keyword as a variable name would\n",
        "cause a syntax error because the interpreter would not be able to distinguish between the keyword's\n",
        "predefined function and the intended use as a variable.\n",
        "\n",
        "\n",
        "if = 10 # This is invalid and this will cause a syntax error.\n",
        "my_variable =7 #This is valid variable."
      ],
      "metadata": {
        "id": "IPve-eUdjX0y"
      },
      "execution_count": null,
      "outputs": []
    },
    {
      "cell_type": "code",
      "source": [
        "# 5. What is mutability in Python?\n",
        "'''\n",
        "In python, Mutability refers to whether or not an object's state can be changed after it is\n",
        "created. Objects that can be changed after they are created are called mutable, while objects\n",
        "that cannot be changed are called immutable.\n",
        "  Lists: You can add, remove, or modify elements in a list.\n",
        "  Dictionaries: You can add,removed, or modify key-value pairs.\n",
        "'''\n",
        "\n",
        "my_list = [1,2,45]\n",
        "my_list[1] = 20\n",
        "print(my_list)"
      ],
      "metadata": {
        "id": "9EeLt14kNXgS"
      },
      "execution_count": null,
      "outputs": []
    },
    {
      "cell_type": "code",
      "source": [
        "#6. Why are lists mutable, but tuples are immutable?\n",
        "'''\n",
        "Lists: Mutable- List are designed to be dynamic and flexible, allowing for elements to be \\\n",
        "        added, removed, or changed.This makes them very useful for situations where the data needs to\n",
        "        be modified frequently.\n",
        "      Use Case- List are ideal for maintaining collections of items that may need to be updated,\n",
        "       such as a to-do list, a list of user inputs, or any data that requires frequent changes.\n",
        "Tuples: Immutable- Tuples are designed to be immutable, meaning their elements cannot be changed once\n",
        "          they are create. This immutability ensures that the data ramains constant and cannot be altered\n",
        "          accidentally, which can be beneficial for certain applications.\n",
        "        Use Case- Tuples are ideal for representing fixed collections of items, such as coordintes(X,Y)\n",
        "         RGB color values, or any group of values that should not change throughout the program.\n",
        "\n",
        "\n",
        "\n",
        "Performance Considerations: Immutable objects can be optimized in ways mutable objects cannot.\n",
        "    For example, the immutability of tuples allows for certain performance improvements,\n",
        "    such as caching and faster access time.\n",
        "'''"
      ],
      "metadata": {
        "id": "VDlHBgT_P0p9"
      },
      "execution_count": null,
      "outputs": []
    },
    {
      "cell_type": "code",
      "source": [
        "#  7. What is the difference between “==” and “is” operators in Python\n",
        "'''\n",
        "In python, the == and is operator are used for comparison, but they serve different purposes:\n",
        " 1) '==' Operator:- This operator checks for value equality. It compares the values\n",
        "        of two objects to see if they are equal.\n",
        " 2) 'is' Operator:- This operator checks for identity equality. It compares the memory\n",
        "        addresses of two objects to see if they are same object.\n",
        "'''\n",
        "\n",
        "a = [1,2,4]\n",
        "b = [1,2,4]\n",
        "print(a == b) # True\n",
        "print(a is b) # False"
      ],
      "metadata": {
        "id": "CsNaz_hnUxlW"
      },
      "execution_count": null,
      "outputs": []
    },
    {
      "cell_type": "code",
      "source": [
        "# 8.What are logical operators in Python?\n",
        "'''\n",
        "Logical operators in python are used to combine conditional statements. They are\n",
        "essential in makeing decisons and controlling the flow of your programs. Here are the logical\n",
        "operators.\n",
        "          1)and: This operator returns 'True' if both statement are true.\n",
        "          2)or: This operator return 'True' if at leats one of the statements is true.\n",
        "          3)not: This operator return 'True' if the statement is false(it inverts the result).\n",
        "'''\n",
        "x = 5\n",
        "print(x > 3 and x < 10 ) #Output: True  (and)\n",
        "print(x > 3 or x < 10) #Output: True  (or)\n",
        "print(not x > 3) #Output: False (not)"
      ],
      "metadata": {
        "id": "CTiYGUofgRFd"
      },
      "execution_count": null,
      "outputs": []
    },
    {
      "cell_type": "code",
      "source": [
        "# 9. What is type casting in Python?\n",
        "'''\n",
        "Type cating in python, also known as type conversion, is the process of converting a\n",
        "variable from one data type to another. This is useful when you need to perform\n",
        "operations that require variables to be of the same data type.\n",
        "\n",
        "1) Implicit type casting: This is performed automaticlly by python when it encounters a\n",
        "    situation where it needs to covert one data type to another.\n",
        "\n",
        "2) Explicit type casting: This is preformed manually by the programmer using bulit in funcuons\n",
        "    like int(), float(), str(), etc.\n",
        "'''\n",
        "\n",
        "x = '10' # string\n",
        "y = 2.5 # float  (implicit)\n",
        "z = int(x) #convert 'x' to interger (Explicit)\n",
        "w = float(x) # convert 'x' to float\n",
        "print(y+w) # output: 12.5"
      ],
      "metadata": {
        "id": "__vzeQCRjXxy"
      },
      "execution_count": null,
      "outputs": []
    },
    {
      "cell_type": "code",
      "source": [
        "# 10. What is the difference between implicit and explicit type casting?\n",
        "'''\n",
        "1) Automatic vs Manual: Impliciat type cating is performed automatically by python,\n",
        "whereas explicit type casting is performed manually by the programmer.\n",
        "\n",
        "2) Control: Expliciat Type casting gives more control to the progrmmer over how and when the\n",
        "conversion occurs.\n",
        "\n",
        "3) Safety: Impliciat type casting is generally safe and prevents data loss, while explicit\n",
        "type casting requries careful handling to avoid errors or data loss.\n",
        "'''"
      ],
      "metadata": {
        "id": "ZloQGvNznGoM"
      },
      "execution_count": null,
      "outputs": []
    },
    {
      "cell_type": "code",
      "source": [
        "# 11. What is the purpose of conditional statements in Python?\n",
        "'''\n",
        "Conditional statements in python are essential for controlling the flow of your program.\n",
        "They allow your code to make decisions and execute specific actions based on certain\n",
        "conditions.Here are the primary purposes and uses of conditional statements:\n",
        "1) Decision Making : Conditional statement let your program decide what action to\n",
        "      take based on whether a condition is true or false.\n",
        "2) Control Flow: They control the flow of the program by branching into different\n",
        "      paths depending on the conditions.\n",
        "3) Loop Control: Conditional statements are also used within loops to control iteration\n",
        "      and exit conditions.\n",
        "4) Error Handling: They can be used to handle errors and exceptions gracefully\n",
        "      by checking for specific condition and taking appropriate actions.\n",
        "'''"
      ],
      "metadata": {
        "id": "GXtBYLj3pMmv"
      },
      "execution_count": null,
      "outputs": []
    },
    {
      "cell_type": "code",
      "source": [
        "# 12. How does the elif statement work?\n",
        "'''\n",
        "The elif statement in python is used to handle multiple conditions. It stands for\n",
        "'else if' and allows you to check additional conditions if the previous 'if' or '(elif)'\n",
        "conditions was not true. This helps create more complex decision-making structures\n",
        "in your programs.\n",
        "'''\n",
        "x = 20\n",
        "if x > 20:\n",
        "  print('x is greater than 20')\n",
        "elif x > 10:\n",
        "  print(\"x is greater than 10 but less than or equal to 20\")\n",
        "elif x > 5:\n",
        "  print(\"x is greater than 5 but less than or equal to 10\")\n",
        "else:\n",
        "  print(\"x is 5 or less\")"
      ],
      "metadata": {
        "colab": {
          "base_uri": "https://localhost:8080/"
        },
        "id": "YPPR91QwKmyP",
        "outputId": "f0791f2c-375a-490f-bbdc-f45eb88da2e2"
      },
      "execution_count": null,
      "outputs": [
        {
          "output_type": "stream",
          "name": "stdout",
          "text": [
            "x is greater than 10 but less than or equal to 20\n"
          ]
        }
      ]
    },
    {
      "cell_type": "code",
      "source": [
        "# 13. What is the difference between for and while loops?\n",
        "'''\n",
        "Iteration Basis:\n",
        "                \"for\":- Iteration over a sequence or a range of numbers.\n",
        "                \"While\":- Continues as long as a specified cindition is True.\n",
        "Use Cases:\n",
        "                \"for\":- Best for iterating over a collection of items where the number of\n",
        "                    iterations is predtermined.\n",
        "                \"while\":- Best for situations where the iteration needs to continue until a\n",
        "                    condition is no longer met, which may not be known in advance.\n",
        "'''\n",
        "for in in range(5):\n",
        "  print(i)\n",
        "\n",
        "i = 0\n",
        "while i < 5:\n",
        "  print(i)\n",
        "  i += 1"
      ],
      "metadata": {
        "id": "g0MxWZXeNDaz"
      },
      "execution_count": null,
      "outputs": []
    },
    {
      "cell_type": "code",
      "source": [
        "# 14. Describe a scenario where a while loop is more suitable than a for loop?\n",
        "'''\n",
        "A while loop is pariticularly suitable for scenarios where the number of iterations\n",
        "is not known beforehand and depends on a condition that may change during execution.\n",
        "'''\n",
        "# Let understand the scenario where the while loop is best in class:\n",
        "correct_password = \"Ashish_saini_1\"\n",
        "user_input = \"\"\n",
        "while user_input != correct_password:\n",
        "  user_input = input(\"Enter the password: \")\n",
        "  if user_input == correct_password:\n",
        "    print(\"Password is correct and access is grandted! \")\n",
        "  else:\n",
        "    print(\"Incorrect password, Try again. \")\n",
        "print(\"End of program! \")"
      ],
      "metadata": {
        "colab": {
          "base_uri": "https://localhost:8080/"
        },
        "id": "MBX09dGHSmsP",
        "outputId": "8ceea567-1f30-4e07-832e-3aeb444f3071"
      },
      "execution_count": null,
      "outputs": [
        {
          "output_type": "stream",
          "name": "stdout",
          "text": [
            "Enter the password: Ashish_saini\n",
            "Incorrect password, Try again. \n",
            "Enter the password: Ashisih\n",
            "Incorrect password, Try again. \n",
            "Enter the password: Ashish_saini_1\n",
            "Password is correct and access is grandted! \n",
            "End of program! \n"
          ]
        }
      ]
    },
    {
      "cell_type": "markdown",
      "source": [
        "# Practical Questions"
      ],
      "metadata": {
        "id": "pKbL1hsfVBlY"
      }
    },
    {
      "cell_type": "code",
      "source": [
        "# 1.Write a Python program to print \"Hello, World!\" ?\n",
        "\n",
        "\n",
        "print(\"Hello, World!\")"
      ],
      "metadata": {
        "colab": {
          "base_uri": "https://localhost:8080/"
        },
        "id": "WwhYcnNbVe2y",
        "outputId": "98809a26-5a2c-4254-f5bd-a7583dc978c6"
      },
      "execution_count": null,
      "outputs": [
        {
          "output_type": "stream",
          "name": "stdout",
          "text": [
            "Hello, World!\n"
          ]
        }
      ]
    },
    {
      "cell_type": "code",
      "source": [
        "# 2. Write a Python program that displays your name and age?\n",
        "\n",
        "name = input(\"Enter your name: \")\n",
        "age = int(input(\"Enter your age: \"))\n",
        "print(\"My name is\" , name, \"and\", \"My age is\",age)\n"
      ],
      "metadata": {
        "colab": {
          "base_uri": "https://localhost:8080/"
        },
        "id": "OOzk2mZbV822",
        "outputId": "85d72e3c-9201-4b8c-a419-3496e5aa17be"
      },
      "execution_count": 2,
      "outputs": [
        {
          "output_type": "stream",
          "name": "stdout",
          "text": [
            "Enter your name: sammi mondal\n",
            "Enter your age: 23\n",
            "My name is sammi mondal and My age is 23\n"
          ]
        }
      ]
    },
    {
      "cell_type": "code",
      "source": [
        "# 3. Write code to print all the pre-defined keywords in Python using the keyword library?\n",
        "help(\"keywords\")"
      ],
      "metadata": {
        "colab": {
          "base_uri": "https://localhost:8080/"
        },
        "id": "Lf1R_WFZXz4b",
        "outputId": "46287920-f56a-4c48-8687-bffe11402a03"
      },
      "execution_count": 3,
      "outputs": [
        {
          "output_type": "stream",
          "name": "stdout",
          "text": [
            "\n",
            "Here is a list of the Python keywords.  Enter any keyword to get more help.\n",
            "\n",
            "False               class               from                or\n",
            "None                continue            global              pass\n",
            "True                def                 if                  raise\n",
            "and                 del                 import              return\n",
            "as                  elif                in                  try\n",
            "assert              else                is                  while\n",
            "async               except              lambda              with\n",
            "await               finally             nonlocal            yield\n",
            "break               for                 not                 \n",
            "\n"
          ]
        }
      ]
    },
    {
      "cell_type": "code",
      "source": [
        "# 4. Write a program that checks if a given word is a Python keyword?\n",
        "import keyword\n",
        "word = input(\"Enter a word: \")\n",
        "if word in keyword.kwlist:\n",
        "\n",
        "  print(f\"{word} is a python keyword\")\n",
        "else:\n",
        "  print(f\"{word} is not a python keyword\")\n",
        ""
      ],
      "metadata": {
        "colab": {
          "base_uri": "https://localhost:8080/"
        },
        "id": "pBva8TZYZBZq",
        "outputId": "daa13439-81c0-4c07-c3eb-8259014b759f"
      },
      "execution_count": 6,
      "outputs": [
        {
          "output_type": "stream",
          "name": "stdout",
          "text": [
            "Enter a word: sammit\n",
            "sammit is not a python keyword\n"
          ]
        }
      ]
    },
    {
      "cell_type": "code",
      "source": [
        "# 5. Create a list and tuple in Python, and demonstrate how attempting to change an element works differently for each.\n",
        "list_container =[1,2,3.0,\"ajay\",\"pwskills\"]\n",
        "print(list_container[3])\n",
        "list_container[3]= \"bijay\"\n",
        "print(list_container)\n",
        "\n",
        "tup=(1,2,5.6,\"raj\",\"data analytics\")\n",
        "tup[4]\n",
        "\n",
        "tup[4]= \"science\""
      ],
      "metadata": {
        "colab": {
          "base_uri": "https://localhost:8080/",
          "height": 211
        },
        "id": "ng3PphUcTsm9",
        "outputId": "19c01186-8677-4282-b8ee-831323e7db54"
      },
      "execution_count": 8,
      "outputs": [
        {
          "output_type": "stream",
          "name": "stdout",
          "text": [
            "ajay\n",
            "[1, 2, 3.0, 'bijay', 'pwskills']\n"
          ]
        },
        {
          "output_type": "error",
          "ename": "TypeError",
          "evalue": "'tuple' object does not support item assignment",
          "traceback": [
            "\u001b[0;31m---------------------------------------------------------------------------\u001b[0m",
            "\u001b[0;31mTypeError\u001b[0m                                 Traceback (most recent call last)",
            "\u001b[0;32m<ipython-input-8-2214080774>\u001b[0m in \u001b[0;36m<cell line: 0>\u001b[0;34m()\u001b[0m\n\u001b[1;32m      8\u001b[0m \u001b[0mtup\u001b[0m\u001b[0;34m[\u001b[0m\u001b[0;36m4\u001b[0m\u001b[0;34m]\u001b[0m\u001b[0;34m\u001b[0m\u001b[0;34m\u001b[0m\u001b[0m\n\u001b[1;32m      9\u001b[0m \u001b[0;34m\u001b[0m\u001b[0m\n\u001b[0;32m---> 10\u001b[0;31m \u001b[0mtup\u001b[0m\u001b[0;34m[\u001b[0m\u001b[0;36m4\u001b[0m\u001b[0;34m]\u001b[0m\u001b[0;34m=\u001b[0m \u001b[0;34m\"science\"\u001b[0m\u001b[0;34m\u001b[0m\u001b[0;34m\u001b[0m\u001b[0m\n\u001b[0m",
            "\u001b[0;31mTypeError\u001b[0m: 'tuple' object does not support item assignment"
          ]
        }
      ]
    },
    {
      "cell_type": "code",
      "source": [
        "# Q6. => Write a function to demonstrate the behavior of mutable and immutable arguments?\n",
        "def mutable_and_immutable(mutable_a, immutable_a):\n",
        "  mutable_a.remove(2) #changes in list and show the behavior of mutablitie\n",
        "\n",
        "  immutable_a += 10 # It is show the behavior of immutabletie\n",
        "  print(\"Inside the function \")\n",
        "  print(f\"List_a: {mutable_a}\")\n",
        "  print(f\"Interger_a: {immutable_a}\")\n",
        "\n",
        "list_a = [1,2,3,4,5]\n",
        "integer_a = 5\n",
        "print(\"before the function call \")\n",
        "print(f\"List_a: {list_a}\")\n",
        "print(f\"Integer_a: {integer_a}\")\n",
        "\n",
        "mutable_and_immutable(list_a, integer_a)\n",
        "\n",
        "print(\"After the function call \")\n",
        "print(f\"List_a: {list_a}\")\n",
        "print(f\"Integer_a: {integer_a}\") # After the function call the integer is not change becouse of the immutable manner"
      ],
      "metadata": {
        "colab": {
          "base_uri": "https://localhost:8080/"
        },
        "id": "YVpInjmOULEe",
        "outputId": "ad92ea36-d0b3-4bc9-8c25-7c96228e5d3a"
      },
      "execution_count": 7,
      "outputs": [
        {
          "output_type": "stream",
          "name": "stdout",
          "text": [
            "before the function call \n",
            "List_a: [1, 2, 3, 4, 5]\n",
            "Integer_a: 5\n",
            "Inside the function \n",
            "List_a: [1, 3, 4, 5]\n",
            "Interger_a: 15\n",
            "After the function call \n",
            "List_a: [1, 3, 4, 5]\n",
            "Integer_a: 5\n"
          ]
        }
      ]
    },
    {
      "cell_type": "code",
      "source": [
        " # 7. Write a program that performs basic arithmetic operations on two user-input numbers\n",
        " Digit1= int(input(\"Enter your digit 1 :\"))\n",
        " Digit2= int(input(\"Enter your digit 2 :\"))\n",
        "\n",
        " Result = Digit1 * Digit2\n",
        "\n",
        " print(\"your result is :\", Result)\n"
      ],
      "metadata": {
        "colab": {
          "base_uri": "https://localhost:8080/"
        },
        "id": "Y2d_XkXiR2Qy",
        "outputId": "3318070c-2ceb-4993-e3d6-48e9dfa237c1"
      },
      "execution_count": 8,
      "outputs": [
        {
          "output_type": "stream",
          "name": "stdout",
          "text": [
            "Enter your digit 1 :10\n",
            "Enter your digit 2 :20\n",
            "your result is : 200\n"
          ]
        }
      ]
    },
    {
      "cell_type": "code",
      "source": [
        "# 8. Write a program to demonstrate the use of logical operators.\n",
        "x = int(input(\"Enter first number: \"))\n",
        "y = int(input(\"Enter second number: \"))\n",
        "\n",
        "# Using logical operators\n",
        "print(\"\\nLogical Operator Results:\")\n",
        "print(f\"x > 0 and y > 0: {x > 0 and y > 0}\")    # Both must be true\n",
        "print(f\"x > 0 or y > 0: {x > 0 or y > 0}\")      # At least one must be true\n",
        "print(f\"not (x > 0): {not (x > 0)}\")"
      ],
      "metadata": {
        "colab": {
          "base_uri": "https://localhost:8080/"
        },
        "id": "5Ly3aSnLTFtI",
        "outputId": "a3360839-102f-49c2-8f8c-4cd4ce1075e5"
      },
      "execution_count": 15,
      "outputs": [
        {
          "output_type": "stream",
          "name": "stdout",
          "text": [
            "Enter first number: 25\n",
            "Enter second number: 30\n",
            "\n",
            "Logical Operator Results:\n",
            "x > 0 and y > 0: True\n",
            "x > 0 or y > 0: True\n",
            "not (x > 0): False\n"
          ]
        }
      ]
    },
    {
      "cell_type": "code",
      "source": [
        "# 9. Write a Python program to convert user input from string to integer, float, and boolean types.\n",
        "\n",
        "user_input = str(input(\"Enter a value: \"))\n",
        "\n",
        "try:\n",
        "  integer_value = int(user_input)\n",
        "  print(f\"Integer: {integer_value}\")\n",
        "except ValueError:\n",
        "  print(f\"Could not convert '{user_input}' to an integer.\")\n",
        "\n",
        "try:\n",
        "  float_value = float(user_input)\n",
        "  print(f\"Float: {float_value}\")\n",
        "except ValueError:\n",
        "  print(f\"Could not convert '{user_input}' to a float.\")\n",
        "\n",
        "# Boolean conversion of a non-empty string is always True\n",
        "boolean_value = bool(user_input)\n",
        "print(f\"Boolean: {boolean_value}\")\n",
        "\n",
        "print(f\"String: {user_input}\")"
      ],
      "metadata": {
        "colab": {
          "base_uri": "https://localhost:8080/"
        },
        "id": "w0eGvVB8UJBU",
        "outputId": "c77b4200-6c5a-40ec-b110-ce8f355532bd"
      },
      "execution_count": 17,
      "outputs": [
        {
          "output_type": "stream",
          "name": "stdout",
          "text": [
            "Enter a value: pwskill\n",
            "Could not convert 'pwskill' to an integer.\n",
            "Could not convert 'pwskill' to a float.\n",
            "Boolean: True\n",
            "String: pwskill\n"
          ]
        }
      ]
    },
    {
      "cell_type": "code",
      "source": [
        "# 10. Write code to demonstrate type casting with list elements.\n",
        "list_con = [1,2,3,4,5,6]\n",
        "print(type(list_con))\n",
        "print(type(list_con[1]))\n",
        "b = str(list_con)\n",
        "print(type(b))\n",
        "print(type(b[1]))\n",
        "'''\n",
        "list_v = [1,2,3,4]\n",
        "xyz_i =[]\n",
        "for s in list_v :\n",
        "    xyz_i.append(str(s))\n",
        "print(xyz_i)\n",
        "'''\n",
        "'''\n",
        " Q10. => Write code to demonstrate type casting with list elements.\n",
        "def Type_casting(list_a):\n",
        "  int_l = []\n",
        "  Float_f =[]\n",
        "  str_s = []\n",
        "\n",
        "  for i in list_a:\n",
        "    # Type Cast in integer Value\n",
        "    try:\n",
        "      int_l.append(int(i))\n",
        "    except ValueError as e:\n",
        "      int_l.append(None) # if the element is not integer then append None\n",
        "    # Type Cast in Float Value\n",
        "    try:\n",
        "      Float_f.append(float(i))\n",
        "    except ValueError as e:\n",
        "      Float_f.append(None) #if the element is not float then append None\n",
        "    #Type Cast in string\n",
        "    str_s.append(str(i)) # in the above condition is not satisfy then the element is string type\n",
        "\n",
        "  print(f\"Original List: {list_a}\")\n",
        "  print(f\"Integer list: {int_l}\")\n",
        "  print(f\"Float list: {Float_f}\")\n",
        "  print(f\"String list: {str_s}\")\n",
        "\n",
        "list_a = [1,2,3,4,'Hello',' Ashish', 9.0]\n",
        "Type_casting(list_a)\n",
        "'''\n"
      ],
      "metadata": {
        "colab": {
          "base_uri": "https://localhost:8080/",
          "height": 191
        },
        "id": "r9mNLUo2bu2V",
        "outputId": "8b4f822b-434e-4cf4-8b9f-26a483af3e36"
      },
      "execution_count": 20,
      "outputs": [
        {
          "output_type": "stream",
          "name": "stdout",
          "text": [
            "<class 'list'>\n",
            "<class 'int'>\n",
            "<class 'str'>\n",
            "<class 'str'>\n"
          ]
        },
        {
          "output_type": "execute_result",
          "data": {
            "text/plain": [
              "'\\n Q10. => Write code to demonstrate type casting with list elements.\\ndef Type_casting(list_a):\\n  int_l = []\\n  Float_f =[]\\n  str_s = []\\n\\n  for i in list_a:\\n    # Type Cast in integer Value\\n    try:\\n      int_l.append(int(i))\\n    except ValueError as e:\\n      int_l.append(None) # if the element is not integer then append None\\n    # Type Cast in Float Value\\n    try:\\n      Float_f.append(float(i))\\n    except ValueError as e:\\n      Float_f.append(None) #if the element is not float then append None\\n    #Type Cast in string\\n    str_s.append(str(i)) # in the above condition is not satisfy then the element is string type\\n\\n  print(f\"Original List: {list_a}\")\\n  print(f\"Integer list: {int_l}\")\\n  print(f\"Float list: {Float_f}\")\\n  print(f\"String list: {str_s}\")\\n\\nlist_a = [1,2,3,4,\\'Hello\\',\\' Ashish\\', 9.0]\\nType_casting(list_a)\\n'"
            ],
            "application/vnd.google.colaboratory.intrinsic+json": {
              "type": "string"
            }
          },
          "metadata": {},
          "execution_count": 20
        }
      ]
    },
    {
      "cell_type": "code",
      "source": [
        "# 11. Write a program that checks if a number is positive, negative, or zero\n",
        "number=int(input(\"Enter a number: \"))\n",
        "if number > 0:\n",
        "  print(\"The number is positive\")\n",
        "elif number < 0:\n",
        "  print(\"The number is negative\")\n",
        "else:\n",
        "  print(\"The number is zero\")"
      ],
      "metadata": {
        "colab": {
          "base_uri": "https://localhost:8080/"
        },
        "id": "Cbb08l5nAxhs",
        "outputId": "ccfabacb-8a3d-42e2-c60c-168ce7ac8cac"
      },
      "execution_count": 21,
      "outputs": [
        {
          "output_type": "stream",
          "name": "stdout",
          "text": [
            "Enter a number: 25\n",
            "The number is positive\n"
          ]
        }
      ]
    },
    {
      "cell_type": "code",
      "source": [
        " # 12.Write a for loop to print numbers from 1 to 10.\n",
        "for i in range(1,11):\n",
        "  print(i)\n",
        ""
      ],
      "metadata": {
        "colab": {
          "base_uri": "https://localhost:8080/"
        },
        "id": "aiirEUvYCG54",
        "outputId": "156f9a25-9a65-4b10-ca22-b4f24e05bcb0"
      },
      "execution_count": 25,
      "outputs": [
        {
          "output_type": "stream",
          "name": "stdout",
          "text": [
            "1\n",
            "2\n",
            "3\n",
            "4\n",
            "5\n",
            "6\n",
            "7\n",
            "8\n",
            "9\n",
            "10\n"
          ]
        }
      ]
    },
    {
      "cell_type": "code",
      "source": [
        "# 13. Write a Python program to find the sum of all even numbers between 1 and 50\n",
        "sum= 0\n",
        "for i in range(1,51):\n",
        "  if i % 2 == 0:\n",
        "    sum = sum + i\n",
        "print(\"sum of the all even number:\" ,sum)\n",
        "\n",
        "'''\n",
        "sum = 0\n",
        "for i in range(2,51,2):\n",
        "  sum = sum + i\n",
        "print(sum)\n",
        "'''\n",
        "\n"
      ],
      "metadata": {
        "colab": {
          "base_uri": "https://localhost:8080/",
          "height": 52
        },
        "id": "lx5AkGrVF02U",
        "outputId": "5c9fb79b-2ec5-4fa9-cb45-018d03f9b4d5"
      },
      "execution_count": 36,
      "outputs": [
        {
          "output_type": "stream",
          "name": "stdout",
          "text": [
            "sum of the all even number: 650\n"
          ]
        },
        {
          "output_type": "execute_result",
          "data": {
            "text/plain": [
              "' \\nsum = 0\\nfor i in range(2,51,2):\\n  sum = sum + i\\nprint(sum)\\n'"
            ],
            "application/vnd.google.colaboratory.intrinsic+json": {
              "type": "string"
            }
          },
          "metadata": {},
          "execution_count": 36
        }
      ]
    },
    {
      "cell_type": "code",
      "source": [
        "# 14. Write a program to reverse a string using a while loop.\n",
        "name= str(input())\n",
        "reverse = \" \"\n",
        "length =len(name)\n",
        "while length > 0:\n",
        "  reverse = reverse + name[length - 1]\n",
        "  length = length - 1\n",
        "print(reverse)"
      ],
      "metadata": {
        "colab": {
          "base_uri": "https://localhost:8080/"
        },
        "id": "vAdh2Oq7U0Pw",
        "outputId": "b6e4b8ae-a227-47cb-d090-9c01e5a2166a"
      },
      "execution_count": 38,
      "outputs": [
        {
          "output_type": "stream",
          "name": "stdout",
          "text": [
            "sammit\n",
            " timmas\n"
          ]
        }
      ]
    },
    {
      "cell_type": "code",
      "source": [
        "# 15. Write a Python program to calculate the factorial of a number provided by the user using a while loop.\n",
        "number= int (input(\"enter the number:\"))\n",
        "multipli = 1\n",
        "while number >0 :\n",
        "  multipli = multipli * (number)\n",
        "  number = number -1\n",
        "print(multipli)\n",
        "\n",
        "\n"
      ],
      "metadata": {
        "colab": {
          "base_uri": "https://localhost:8080/"
        },
        "id": "DtZW3DRwX0bQ",
        "outputId": "14c6ec6e-0a67-40bf-b1c0-bbc7937b7582"
      },
      "execution_count": 46,
      "outputs": [
        {
          "output_type": "stream",
          "name": "stdout",
          "text": [
            "enter the number:5\n",
            "120\n"
          ]
        }
      ]
    },
    {
      "cell_type": "code",
      "source": [],
      "metadata": {
        "id": "69UsnnmVZI_2"
      },
      "execution_count": null,
      "outputs": []
    }
  ]
}